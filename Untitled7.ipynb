{
 "cells": [
  {
   "cell_type": "code",
   "execution_count": 31,
   "id": "7713361b",
   "metadata": {},
   "outputs": [
    {
     "name": "stdout",
     "output_type": "stream",
     "text": [
      "\n",
      "Your Tshirt size is   LARGE ,with the following message: \"I LOVE AFRICA\"\n",
      "\n",
      "Your Tshirt size is   SMALL ,with the following message: \"I LOVE  PROGRAMMING\"\n"
     ]
    }
   ],
   "source": [
    "##  T-Shirt\n",
    "\n",
    "\n",
    "\n",
    "\n",
    "## T-Shirt\n",
    "def make_shirt(size, msg):\n",
    "    print(\"\\nYour Tshirt size is   \" + size.upper() + \" ,with the following message: \" + msg.upper())\n",
    "\n",
    "make_shirt('large', '\"I Love Africa\"')\n",
    "make_shirt(size = 'small', msg = '\"I Love  Programming\"')\n",
    "\n",
    "\n"
   ]
  },
  {
   "cell_type": "code",
   "execution_count": 16,
   "id": "5f069d3a",
   "metadata": {},
   "outputs": [
    {
     "name": "stdout",
     "output_type": "stream",
     "text": [
      "\n",
      "Your T-shirt size is large  it says \"I love Python\"\n",
      "\n",
      "Your T-shirt size is large  it says \"I love Python\"\n",
      "\n",
      "Your T-shirt size is small  it says \"Coding is Life\"\n"
     ]
    }
   ],
   "source": [
    "\n",
    "\n",
    "\n",
    "##Large Shirts\n",
    "\n",
    "\n",
    "def make_shirt(size = 'large', msg = '\"I love Python\"'):\n",
    "    print(\"\\nYour T-shirt size is \" + size + \"  it says \" + msg)\n",
    "\n",
    "make_shirt('large')\n",
    "make_shirt()\n",
    "make_shirt('small','\"Coding is Life\"')\n"
   ]
  },
  {
   "cell_type": "code",
   "execution_count": 30,
   "id": "0b5beda8",
   "metadata": {},
   "outputs": [
    {
     "name": "stdout",
     "output_type": "stream",
     "text": [
      "\n",
      "The city of LUSAKA  is found in ZAMBIA\n",
      "\n",
      "The city of NDOLA  is found in ZAMBIA\n",
      "\n",
      "The city of MADRAS  is found in INDIA\n"
     ]
    }
   ],
   "source": [
    "##Cities\n",
    "\n",
    "def describe_city(city, country ='Zambia'):\n",
    "     print(\"\\nThe city of \" + city.upper() + \"  is found in \" + country.upper())\n",
    "\n",
    "describe_city('Lusaka')\n",
    "describe_city('Ndola')\n",
    "describe_city('Madras','India')"
   ]
  },
  {
   "cell_type": "code",
   "execution_count": null,
   "id": "73ff8c86",
   "metadata": {},
   "outputs": [],
   "source": []
  }
 ],
 "metadata": {
  "kernelspec": {
   "display_name": "Python 3",
   "language": "python",
   "name": "python3"
  },
  "language_info": {
   "codemirror_mode": {
    "name": "ipython",
    "version": 3
   },
   "file_extension": ".py",
   "mimetype": "text/x-python",
   "name": "python",
   "nbconvert_exporter": "python",
   "pygments_lexer": "ipython3",
   "version": "3.8.8"
  }
 },
 "nbformat": 4,
 "nbformat_minor": 5
}
